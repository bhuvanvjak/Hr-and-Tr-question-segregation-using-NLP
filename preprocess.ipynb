{
 "cells": [
  {
   "cell_type": "code",
   "execution_count": 3,
   "metadata": {},
   "outputs": [
    {
     "name": "stdout",
     "output_type": "stream",
     "text": [
      "                                            Question Label\n",
      "0                         1. Tell me about yourself.    HR\n",
      "1         2. What are your strengths and weaknesses?    HR\n",
      "2                   3. Why do you want to work here?    HR\n",
      "3        4. Where do you see yourself in five years?    HR\n",
      "4  5. Can you describe a challenge you overcame a...    HR\n"
     ]
    }
   ],
   "source": [
    "import pandas as pd\n",
    "import nltk\n",
    "from sklearn.feature_extraction.text import TfidfVectorizer\n",
    "from nltk.corpus import stopwords\n",
    "from nltk.tokenize import word_tokenize\n",
    "import string\n",
    "\n",
    "data = pd.read_csv('interview_questions.csv')\n",
    "print(data.head())  # Check the structure of your data\n"
   ]
  },
  {
   "cell_type": "code",
   "execution_count": 4,
   "metadata": {},
   "outputs": [],
   "source": [
    "data['Question'] = data['Question'].str.lower()\n"
   ]
  },
  {
   "cell_type": "code",
   "execution_count": 5,
   "metadata": {},
   "outputs": [],
   "source": [
    "data['Question'] = data['Question'].apply(lambda x: x.translate(str.maketrans('', '', string.punctuation)))\n"
   ]
  },
  {
   "cell_type": "code",
   "execution_count": 8,
   "metadata": {},
   "outputs": [
    {
     "name": "stdout",
     "output_type": "stream",
     "text": [
      "                                            Question Label\n",
      "0                             tell me about yourself    HR\n",
      "1             what are your strengths and weaknesses    HR\n",
      "2                       why do you want to work here    HR\n",
      "3            where do you see yourself in five years    HR\n",
      "4  can you describe a challenge you overcame at work    HR\n"
     ]
    }
   ],
   "source": [
    "import re\n",
    "\n",
    "data['Question'] = data['Question'].apply(lambda x: re.sub(r'^\\d+\\s*', '', x))\n",
    "\n",
    "print(data.head())"
   ]
  },
  {
   "cell_type": "code",
   "execution_count": 10,
   "metadata": {},
   "outputs": [],
   "source": [
    "vectorizer = TfidfVectorizer()\n",
    "X = vectorizer.fit_transform(data['Question'])  # Features\n",
    "y = data['Label']  # Labels\n"
   ]
  },
  {
   "cell_type": "code",
   "execution_count": 11,
   "metadata": {},
   "outputs": [],
   "source": [
    "from sklearn.model_selection import train_test_split\n",
    "from sklearn.feature_extraction.text import TfidfVectorizer\n",
    "from sklearn.linear_model import LogisticRegression\n",
    "from sklearn.svm import SVC\n",
    "from sklearn.metrics import classification_report, accuracy_score\n"
   ]
  },
  {
   "cell_type": "code",
   "execution_count": 12,
   "metadata": {},
   "outputs": [],
   "source": [
    "# Assuming 'Cleaned_Question' contains the cleaned text and 'Label' the target labels\n",
    "X = data['Question']\n",
    "y = data['Label']\n",
    "\n",
    "# Vectorize the questions using TF-IDF\n",
    "vectorizer = TfidfVectorizer()\n",
    "X = vectorizer.fit_transform(X)\n",
    "\n",
    "# Split the data into train and test sets (80% train, 20% test)\n",
    "X_train, X_test, y_train, y_test = train_test_split(X, y, test_size=0.2, random_state=42)\n"
   ]
  },
  {
   "cell_type": "code",
   "execution_count": 13,
   "metadata": {},
   "outputs": [
    {
     "name": "stdout",
     "output_type": "stream",
     "text": [
      "Logistic Regression Results:\n",
      "              precision    recall  f1-score   support\n",
      "\n",
      "          HR       0.95      1.00      0.97       386\n",
      "   Technical       1.00      0.89      0.94       199\n",
      "\n",
      "    accuracy                           0.96       585\n",
      "   macro avg       0.97      0.95      0.96       585\n",
      "weighted avg       0.97      0.96      0.96       585\n",
      "\n",
      "Accuracy: 96.41%\n"
     ]
    }
   ],
   "source": [
    "# Initialize and train the Logistic Regression model\n",
    "log_reg = LogisticRegression()\n",
    "log_reg.fit(X_train, y_train)\n",
    "\n",
    "# Make predictions on the test data\n",
    "y_pred_log = log_reg.predict(X_test)\n",
    "\n",
    "# Evaluate the Logistic Regression model\n",
    "print(\"Logistic Regression Results:\")\n",
    "print(classification_report(y_test, y_pred_log))\n",
    "print(f\"Accuracy: {accuracy_score(y_test, y_pred_log) * 100:.2f}%\")\n"
   ]
  },
  {
   "cell_type": "code",
   "execution_count": 14,
   "metadata": {},
   "outputs": [
    {
     "name": "stdout",
     "output_type": "stream",
     "text": [
      "SVM Results:\n",
      "              precision    recall  f1-score   support\n",
      "\n",
      "          HR       0.98      1.00      0.99       386\n",
      "   Technical       1.00      0.97      0.98       199\n",
      "\n",
      "    accuracy                           0.99       585\n",
      "   macro avg       0.99      0.98      0.99       585\n",
      "weighted avg       0.99      0.99      0.99       585\n",
      "\n",
      "Accuracy: 98.97%\n"
     ]
    }
   ],
   "source": [
    "# Initialize and train the SVM model\n",
    "svm_model = SVC(kernel='linear')  # Linear kernel for text classification\n",
    "svm_model.fit(X_train, y_train)\n",
    "\n",
    "# Make predictions on the test data\n",
    "y_pred_svm = svm_model.predict(X_test)\n",
    "\n",
    "# Evaluate the SVM model\n",
    "print(\"SVM Results:\")\n",
    "print(classification_report(y_test, y_pred_svm))\n",
    "print(f\"Accuracy: {accuracy_score(y_test, y_pred_svm) * 100:.2f}%\")\n"
   ]
  },
  {
   "cell_type": "code",
   "execution_count": 17,
   "metadata": {},
   "outputs": [],
   "source": [
    "def classify_question(question):\n",
    "    # Preprocess the question: remove punctuation, question numbers, and transform to lowercase\n",
    "    cleaned_question = re.sub(r'^\\d+\\s*', '', question)  # Remove question numbers\n",
    "    cleaned_question = cleaned_question.translate(str.maketrans('', '', string.punctuation))  # Remove punctuation\n",
    "    cleaned_question = cleaned_question.lower()  # Convert to lowercase\n",
    "    \n",
    "    # Vectorize the cleaned question\n",
    "    question_vectorized = vectorizer.transform([cleaned_question])  # Use the same vectorizer\n",
    "    \n",
    "    # Predict using the trained model (you can use log_reg or svm_model)\n",
    "    prediction = svm_model.predict(question_vectorized)  # Change to svm_model if needed\n",
    "    \n",
    "    return prediction[0]  # Return the predicted label\n"
   ]
  },
  {
   "cell_type": "code",
   "execution_count": 18,
   "metadata": {},
   "outputs": [
    {
     "name": "stdout",
     "output_type": "stream",
     "text": [
      "Question: 'What is your greatest strength?' is classified as: HR\n",
      "Question: 'Explain the concept of polymorphism.' is classified as: Technical\n",
      "Question: 'How do you handle conflict in the workplace?' is classified as: HR\n",
      "Question: 'What are the different types of database normalization?' is classified as: Technical\n"
     ]
    }
   ],
   "source": [
    "# Example questions to classify\n",
    "test_questions = [\n",
    "    \"What is your greatest strength?\",\n",
    "    \"Explain the concept of polymorphism.\",\n",
    "    \"How do you handle conflict in the workplace?\",\n",
    "    \"What are the different types of database normalization?\"\n",
    "]\n",
    "\n",
    "# Classify each question\n",
    "for question in test_questions:\n",
    "    label = classify_question(question)\n",
    "    print(f\"Question: '{question}' is classified as: {label}\")\n"
   ]
  },
  {
   "cell_type": "code",
   "execution_count": 19,
   "metadata": {},
   "outputs": [],
   "source": [
    "import pandas as pd\n",
    "import re\n",
    "import string\n",
    "import joblib\n",
    "from sklearn.feature_extraction.text import TfidfVectorizer\n",
    "from sklearn.linear_model import LogisticRegression\n",
    "from sklearn.model_selection import train_test_split\n",
    "import tkinter as tk\n",
    "from tkinter import messagebox"
   ]
  },
  {
   "cell_type": "code",
   "execution_count": 21,
   "metadata": {},
   "outputs": [
    {
     "data": {
      "text/plain": [
       "['tfidf_vectorizer.pkl']"
      ]
     },
     "execution_count": 21,
     "metadata": {},
     "output_type": "execute_result"
    }
   ],
   "source": [
    "# Save the model and vectorizer for later use\n",
    "joblib.dump(log_reg, 'logistic_regression_model.pkl')\n",
    "# Save the model and vectorizer for later use\n",
    "joblib.dump(svm_model, 'smv_model.pkl')\n",
    "joblib.dump(vectorizer, 'tfidf_vectorizer.pkl')"
   ]
  },
  {
   "cell_type": "code",
   "execution_count": 22,
   "metadata": {},
   "outputs": [],
   "source": [
    "# Step 5: Create the GUI\n",
    "def classify_question(question):\n",
    "    cleaned_question = re.sub(r'^\\d+\\s*', '', question)  # Remove question numbers\n",
    "    cleaned_question = cleaned_question.translate(str.maketrans('', '', string.punctuation))  # Remove punctuation\n",
    "    cleaned_question = cleaned_question.lower()  # Convert to lowercase\n",
    "    question_vectorized = vectorizer.transform([cleaned_question])\n",
    "    prediction = log_reg.predict(question_vectorized)\n",
    "    return prediction[0]  # Return the predicted label\n",
    "\n",
    "def on_classify():\n",
    "    question = entry.get()\n",
    "    if question:\n",
    "        label = classify_question(question)\n",
    "        messagebox.showinfo(\"Result\", f\"The question is classified as: {label}\")\n",
    "    else:\n",
    "        messagebox.showwarning(\"Input Error\", \"Please enter a question.\")\n"
   ]
  },
  {
   "cell_type": "code",
   "execution_count": 23,
   "metadata": {},
   "outputs": [],
   "source": [
    "# Set up the main window\n",
    "root = tk.Tk()\n",
    "root.title(\"Question Classifier\")\n",
    "\n",
    "# Create a label and entry for the question\n",
    "label = tk.Label(root, text=\"Enter your question:\")\n",
    "label.pack(pady=10)\n",
    "\n",
    "entry = tk.Entry(root, width=50)\n",
    "entry.pack(pady=10)\n",
    "\n",
    "# Create a classify button\n",
    "button = tk.Button(root, text=\"Classify Question\", command=on_classify)\n",
    "button.pack(pady=20)\n",
    "\n",
    "# Start the GUI loop\n",
    "root.mainloop()"
   ]
  }
 ],
 "metadata": {
  "kernelspec": {
   "display_name": "base",
   "language": "python",
   "name": "python3"
  },
  "language_info": {
   "codemirror_mode": {
    "name": "ipython",
    "version": 3
   },
   "file_extension": ".py",
   "mimetype": "text/x-python",
   "name": "python",
   "nbconvert_exporter": "python",
   "pygments_lexer": "ipython3",
   "version": "3.12.3"
  }
 },
 "nbformat": 4,
 "nbformat_minor": 2
}
